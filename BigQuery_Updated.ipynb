{
  "cells": [
    {
      "cell_type": "markdown",
      "metadata": {
        "id": "view-in-github",
        "colab_type": "text"
      },
      "source": [
        "<a href=\"https://colab.research.google.com/github/SobiaKhan-lab/Portfolio/blob/main/BigQuery_Updated.ipynb\" target=\"_parent\"><img src=\"https://colab.research.google.com/assets/colab-badge.svg\" alt=\"Open In Colab\"/></a>"
      ]
    },
    {
      "cell_type": "code",
      "execution_count": 1,
      "metadata": {
        "cellView": "form",
        "id": "w6MmeBUBJ-9E"
      },
      "outputs": [],
      "source": [
        "# @title Setup\n",
        "from google.colab import auth\n",
        "from google.cloud import bigquery\n",
        "from google.colab import data_table\n",
        "\n",
        "project = 'cloudcomputing-379421' # Project ID inserted based on the query results selected to explore\n",
        "location = 'northamerica-northeast2' # Location inserted based on the query results selected to explore\n",
        "client = bigquery.Client(project=project, location=location)\n",
        "data_table.enable_dataframe_formatter()\n",
        "auth.authenticate_user()"
      ]
    },
    {
      "cell_type": "markdown",
      "metadata": {
        "id": "pj42soltXW_H"
      },
      "source": [
        "## Reference SQL syntax from the original job\n",
        "Use the ```jobs.query```\n",
        "[method](https://cloud.google.com/bigquery/docs/reference/rest/v2/jobs/query) to\n",
        "return the SQL syntax from the job. This can be copied from the output cell\n",
        "below to edit the query now or in the future. Alternatively, you can use\n",
        "[this link](https://console.cloud.google.com/bigquery?j=cloudcomputing-379421:northamerica-northeast2:bquxjob_2171e422_186c3c8c514)\n",
        "back to BigQuery to edit the query within the BigQuery user interface."
      ]
    },
    {
      "cell_type": "code",
      "execution_count": 3,
      "metadata": {
        "id": "KxSqPfAeXW_K",
        "colab": {
          "base_uri": "https://localhost:8080/"
        },
        "outputId": "27855362-11cd-4444-c4f8-2438aab8f75c"
      },
      "outputs": [
        {
          "output_type": "stream",
          "name": "stdout",
          "text": [
            "Select OwnerSplitAddress, OwnerSplitState, OwnerSplitCity From `cloudcomputing-379421.DBNashvilleHousing.BQNashvilleHousingData`;\n"
          ]
        }
      ],
      "source": [
        "# Running this code will display the query used to generate your previous job\n",
        "\n",
        "job = client.get_job('bquxjob_2171e422_186c3c8c514') # Job ID inserted based on the query results selected to explore\n",
        "print(job.query)"
      ]
    },
    {
      "cell_type": "markdown",
      "metadata": {
        "id": "eY-wNOGO11ON"
      },
      "source": [
        "# Result set loaded from BigQuery job as a DataFrame\n",
        "Query results are referenced from the Job ID ran from BigQuery and the query\n",
        "does not need to be re-run to explore results. The ```to_dataframe```\n",
        "[method](https://googleapis.dev/python/bigquery/latest/generated/google.cloud.bigquery.job.QueryJob.html#google.cloud.bigquery.job.QueryJob.to_dataframe)\n",
        "downloads the results to a Pandas DataFrame by using the BigQuery Storage API.\n",
        "\n",
        "To edit query syntax, you can do so from the BigQuery SQL editor or in the\n",
        "```Optional:``` sections below."
      ]
    },
    {
      "cell_type": "code",
      "execution_count": 4,
      "metadata": {
        "id": "bIw82qhuHWy0",
        "colab": {
          "base_uri": "https://localhost:8080/",
          "height": 441
        },
        "outputId": "f59dae2d-cdf6-432a-9c97-dceca9aaeb7b"
      },
      "outputs": [
        {
          "output_type": "stream",
          "name": "stdout",
          "text": [
            "Warning: total number of rows (56480) exceeds max_rows (20000). Falling back to pandas display.\n"
          ]
        },
        {
          "output_type": "execute_result",
          "data": {
            "text/plain": [
              "          OwnerSplitAddress OwnerSplitState   OwnerSplitCity\n",
              "0                      None            None             None\n",
              "1                      None            None             None\n",
              "2                      None            None             None\n",
              "3      0  BRICK CHURCH PIKE              TN   GOODLETTSVILLE\n",
              "4      0  BRICK CHURCH PIKE              TN   GOODLETTSVILLE\n",
              "...                     ...             ...              ...\n",
              "56475   4121  FRANKLIN PIKE              TN        NASHVILLE\n",
              "56476      4410  TRUXTON PL              TN        NASHVILLE\n",
              "56477         2430  BEAR RD              TN        NASHVILLE\n",
              "56478         2430  BEAR RD              TN        NASHVILLE\n",
              "56479  6123  HILLSBORO PIKE              TN        NASHVILLE\n",
              "\n",
              "[56480 rows x 3 columns]"
            ],
            "text/html": [
              "\n",
              "  <div id=\"df-3c824e6d-3af9-4d99-abeb-ae01a27b0351\">\n",
              "    <div class=\"colab-df-container\">\n",
              "      <div>\n",
              "<style scoped>\n",
              "    .dataframe tbody tr th:only-of-type {\n",
              "        vertical-align: middle;\n",
              "    }\n",
              "\n",
              "    .dataframe tbody tr th {\n",
              "        vertical-align: top;\n",
              "    }\n",
              "\n",
              "    .dataframe thead th {\n",
              "        text-align: right;\n",
              "    }\n",
              "</style>\n",
              "<table border=\"1\" class=\"dataframe\">\n",
              "  <thead>\n",
              "    <tr style=\"text-align: right;\">\n",
              "      <th></th>\n",
              "      <th>OwnerSplitAddress</th>\n",
              "      <th>OwnerSplitState</th>\n",
              "      <th>OwnerSplitCity</th>\n",
              "    </tr>\n",
              "  </thead>\n",
              "  <tbody>\n",
              "    <tr>\n",
              "      <th>0</th>\n",
              "      <td>None</td>\n",
              "      <td>None</td>\n",
              "      <td>None</td>\n",
              "    </tr>\n",
              "    <tr>\n",
              "      <th>1</th>\n",
              "      <td>None</td>\n",
              "      <td>None</td>\n",
              "      <td>None</td>\n",
              "    </tr>\n",
              "    <tr>\n",
              "      <th>2</th>\n",
              "      <td>None</td>\n",
              "      <td>None</td>\n",
              "      <td>None</td>\n",
              "    </tr>\n",
              "    <tr>\n",
              "      <th>3</th>\n",
              "      <td>0  BRICK CHURCH PIKE</td>\n",
              "      <td>TN</td>\n",
              "      <td>GOODLETTSVILLE</td>\n",
              "    </tr>\n",
              "    <tr>\n",
              "      <th>4</th>\n",
              "      <td>0  BRICK CHURCH PIKE</td>\n",
              "      <td>TN</td>\n",
              "      <td>GOODLETTSVILLE</td>\n",
              "    </tr>\n",
              "    <tr>\n",
              "      <th>...</th>\n",
              "      <td>...</td>\n",
              "      <td>...</td>\n",
              "      <td>...</td>\n",
              "    </tr>\n",
              "    <tr>\n",
              "      <th>56475</th>\n",
              "      <td>4121  FRANKLIN PIKE</td>\n",
              "      <td>TN</td>\n",
              "      <td>NASHVILLE</td>\n",
              "    </tr>\n",
              "    <tr>\n",
              "      <th>56476</th>\n",
              "      <td>4410  TRUXTON PL</td>\n",
              "      <td>TN</td>\n",
              "      <td>NASHVILLE</td>\n",
              "    </tr>\n",
              "    <tr>\n",
              "      <th>56477</th>\n",
              "      <td>2430  BEAR RD</td>\n",
              "      <td>TN</td>\n",
              "      <td>NASHVILLE</td>\n",
              "    </tr>\n",
              "    <tr>\n",
              "      <th>56478</th>\n",
              "      <td>2430  BEAR RD</td>\n",
              "      <td>TN</td>\n",
              "      <td>NASHVILLE</td>\n",
              "    </tr>\n",
              "    <tr>\n",
              "      <th>56479</th>\n",
              "      <td>6123  HILLSBORO PIKE</td>\n",
              "      <td>TN</td>\n",
              "      <td>NASHVILLE</td>\n",
              "    </tr>\n",
              "  </tbody>\n",
              "</table>\n",
              "<p>56480 rows × 3 columns</p>\n",
              "</div>\n",
              "      <button class=\"colab-df-convert\" onclick=\"convertToInteractive('df-3c824e6d-3af9-4d99-abeb-ae01a27b0351')\"\n",
              "              title=\"Convert this dataframe to an interactive table.\"\n",
              "              style=\"display:none;\">\n",
              "        \n",
              "  <svg xmlns=\"http://www.w3.org/2000/svg\" height=\"24px\"viewBox=\"0 0 24 24\"\n",
              "       width=\"24px\">\n",
              "    <path d=\"M0 0h24v24H0V0z\" fill=\"none\"/>\n",
              "    <path d=\"M18.56 5.44l.94 2.06.94-2.06 2.06-.94-2.06-.94-.94-2.06-.94 2.06-2.06.94zm-11 1L8.5 8.5l.94-2.06 2.06-.94-2.06-.94L8.5 2.5l-.94 2.06-2.06.94zm10 10l.94 2.06.94-2.06 2.06-.94-2.06-.94-.94-2.06-.94 2.06-2.06.94z\"/><path d=\"M17.41 7.96l-1.37-1.37c-.4-.4-.92-.59-1.43-.59-.52 0-1.04.2-1.43.59L10.3 9.45l-7.72 7.72c-.78.78-.78 2.05 0 2.83L4 21.41c.39.39.9.59 1.41.59.51 0 1.02-.2 1.41-.59l7.78-7.78 2.81-2.81c.8-.78.8-2.07 0-2.86zM5.41 20L4 18.59l7.72-7.72 1.47 1.35L5.41 20z\"/>\n",
              "  </svg>\n",
              "      </button>\n",
              "      \n",
              "  <style>\n",
              "    .colab-df-container {\n",
              "      display:flex;\n",
              "      flex-wrap:wrap;\n",
              "      gap: 12px;\n",
              "    }\n",
              "\n",
              "    .colab-df-convert {\n",
              "      background-color: #E8F0FE;\n",
              "      border: none;\n",
              "      border-radius: 50%;\n",
              "      cursor: pointer;\n",
              "      display: none;\n",
              "      fill: #1967D2;\n",
              "      height: 32px;\n",
              "      padding: 0 0 0 0;\n",
              "      width: 32px;\n",
              "    }\n",
              "\n",
              "    .colab-df-convert:hover {\n",
              "      background-color: #E2EBFA;\n",
              "      box-shadow: 0px 1px 2px rgba(60, 64, 67, 0.3), 0px 1px 3px 1px rgba(60, 64, 67, 0.15);\n",
              "      fill: #174EA6;\n",
              "    }\n",
              "\n",
              "    [theme=dark] .colab-df-convert {\n",
              "      background-color: #3B4455;\n",
              "      fill: #D2E3FC;\n",
              "    }\n",
              "\n",
              "    [theme=dark] .colab-df-convert:hover {\n",
              "      background-color: #434B5C;\n",
              "      box-shadow: 0px 1px 3px 1px rgba(0, 0, 0, 0.15);\n",
              "      filter: drop-shadow(0px 1px 2px rgba(0, 0, 0, 0.3));\n",
              "      fill: #FFFFFF;\n",
              "    }\n",
              "  </style>\n",
              "\n",
              "      <script>\n",
              "        const buttonEl =\n",
              "          document.querySelector('#df-3c824e6d-3af9-4d99-abeb-ae01a27b0351 button.colab-df-convert');\n",
              "        buttonEl.style.display =\n",
              "          google.colab.kernel.accessAllowed ? 'block' : 'none';\n",
              "\n",
              "        async function convertToInteractive(key) {\n",
              "          const element = document.querySelector('#df-3c824e6d-3af9-4d99-abeb-ae01a27b0351');\n",
              "          const dataTable =\n",
              "            await google.colab.kernel.invokeFunction('convertToInteractive',\n",
              "                                                     [key], {});\n",
              "          if (!dataTable) return;\n",
              "\n",
              "          const docLinkHtml = 'Like what you see? Visit the ' +\n",
              "            '<a target=\"_blank\" href=https://colab.research.google.com/notebooks/data_table.ipynb>data table notebook</a>'\n",
              "            + ' to learn more about interactive tables.';\n",
              "          element.innerHTML = '';\n",
              "          dataTable['output_type'] = 'display_data';\n",
              "          await google.colab.output.renderOutput(dataTable, element);\n",
              "          const docLink = document.createElement('div');\n",
              "          docLink.innerHTML = docLinkHtml;\n",
              "          element.appendChild(docLink);\n",
              "        }\n",
              "      </script>\n",
              "    </div>\n",
              "  </div>\n",
              "  "
            ]
          },
          "metadata": {},
          "execution_count": 4
        }
      ],
      "source": [
        "# Running this code will read results from your previous job\n",
        "\n",
        "job = client.get_job('bquxjob_2171e422_186c3c8c514') # Job ID inserted based on the query results selected to explore\n",
        "results = job.to_dataframe()\n",
        "results"
      ]
    },
    {
      "cell_type": "code",
      "source": [
        "sheet_id = \"1vXvp4phwsjHq385SIzzat-lReeXCVRjouEhc8U_efv4\"\n",
        "worksheet_name = \"Nashville Housing Data - Cleaned\""
      ],
      "metadata": {
        "id": "tj2oCV3nA7zO"
      },
      "execution_count": 2,
      "outputs": []
    },
    {
      "cell_type": "markdown",
      "metadata": {
        "id": "84Ub57pbB6EN"
      },
      "source": [
        "## Show descriptive statistics using describe()\n",
        "Use the ```pandas DataFrame.describe()```\n",
        "[method](https://pandas.pydata.org/docs/reference/api/pandas.DataFrame.describe.html)\n",
        "to generate descriptive statistics. Descriptive statistics include those that\n",
        "summarize the central tendency, dispersion and shape of a dataset’s\n",
        "distribution, excluding ```NaN``` values. You may also use other Python methods\n",
        "to interact with your data."
      ]
    },
    {
      "cell_type": "code",
      "execution_count": 5,
      "metadata": {
        "id": "fsAsHoWDZMpv",
        "colab": {
          "base_uri": "https://localhost:8080/",
          "height": 171
        },
        "outputId": "aeb26dd1-3a02-4e4e-f6be-ab08d086f917"
      },
      "outputs": [
        {
          "output_type": "execute_result",
          "data": {
            "text/plain": [
              "       OwnerSplitAddress OwnerSplitState OwnerSplitCity\n",
              "count              26015           26015          26015\n",
              "unique             22326               1             12\n",
              "top       0  MCKINLEY ST              TN      NASHVILLE\n",
              "freq                   9           26015          20701"
            ],
            "text/html": [
              "\n",
              "  <div id=\"df-fe14fcd7-b69c-45ba-b925-91c2e3518d72\">\n",
              "    <div class=\"colab-df-container\">\n",
              "      <div>\n",
              "<style scoped>\n",
              "    .dataframe tbody tr th:only-of-type {\n",
              "        vertical-align: middle;\n",
              "    }\n",
              "\n",
              "    .dataframe tbody tr th {\n",
              "        vertical-align: top;\n",
              "    }\n",
              "\n",
              "    .dataframe thead th {\n",
              "        text-align: right;\n",
              "    }\n",
              "</style>\n",
              "<table border=\"1\" class=\"dataframe\">\n",
              "  <thead>\n",
              "    <tr style=\"text-align: right;\">\n",
              "      <th></th>\n",
              "      <th>OwnerSplitAddress</th>\n",
              "      <th>OwnerSplitState</th>\n",
              "      <th>OwnerSplitCity</th>\n",
              "    </tr>\n",
              "  </thead>\n",
              "  <tbody>\n",
              "    <tr>\n",
              "      <th>count</th>\n",
              "      <td>26015</td>\n",
              "      <td>26015</td>\n",
              "      <td>26015</td>\n",
              "    </tr>\n",
              "    <tr>\n",
              "      <th>unique</th>\n",
              "      <td>22326</td>\n",
              "      <td>1</td>\n",
              "      <td>12</td>\n",
              "    </tr>\n",
              "    <tr>\n",
              "      <th>top</th>\n",
              "      <td>0  MCKINLEY ST</td>\n",
              "      <td>TN</td>\n",
              "      <td>NASHVILLE</td>\n",
              "    </tr>\n",
              "    <tr>\n",
              "      <th>freq</th>\n",
              "      <td>9</td>\n",
              "      <td>26015</td>\n",
              "      <td>20701</td>\n",
              "    </tr>\n",
              "  </tbody>\n",
              "</table>\n",
              "</div>\n",
              "      <button class=\"colab-df-convert\" onclick=\"convertToInteractive('df-fe14fcd7-b69c-45ba-b925-91c2e3518d72')\"\n",
              "              title=\"Convert this dataframe to an interactive table.\"\n",
              "              style=\"display:none;\">\n",
              "        \n",
              "  <svg xmlns=\"http://www.w3.org/2000/svg\" height=\"24px\"viewBox=\"0 0 24 24\"\n",
              "       width=\"24px\">\n",
              "    <path d=\"M0 0h24v24H0V0z\" fill=\"none\"/>\n",
              "    <path d=\"M18.56 5.44l.94 2.06.94-2.06 2.06-.94-2.06-.94-.94-2.06-.94 2.06-2.06.94zm-11 1L8.5 8.5l.94-2.06 2.06-.94-2.06-.94L8.5 2.5l-.94 2.06-2.06.94zm10 10l.94 2.06.94-2.06 2.06-.94-2.06-.94-.94-2.06-.94 2.06-2.06.94z\"/><path d=\"M17.41 7.96l-1.37-1.37c-.4-.4-.92-.59-1.43-.59-.52 0-1.04.2-1.43.59L10.3 9.45l-7.72 7.72c-.78.78-.78 2.05 0 2.83L4 21.41c.39.39.9.59 1.41.59.51 0 1.02-.2 1.41-.59l7.78-7.78 2.81-2.81c.8-.78.8-2.07 0-2.86zM5.41 20L4 18.59l7.72-7.72 1.47 1.35L5.41 20z\"/>\n",
              "  </svg>\n",
              "      </button>\n",
              "      \n",
              "  <style>\n",
              "    .colab-df-container {\n",
              "      display:flex;\n",
              "      flex-wrap:wrap;\n",
              "      gap: 12px;\n",
              "    }\n",
              "\n",
              "    .colab-df-convert {\n",
              "      background-color: #E8F0FE;\n",
              "      border: none;\n",
              "      border-radius: 50%;\n",
              "      cursor: pointer;\n",
              "      display: none;\n",
              "      fill: #1967D2;\n",
              "      height: 32px;\n",
              "      padding: 0 0 0 0;\n",
              "      width: 32px;\n",
              "    }\n",
              "\n",
              "    .colab-df-convert:hover {\n",
              "      background-color: #E2EBFA;\n",
              "      box-shadow: 0px 1px 2px rgba(60, 64, 67, 0.3), 0px 1px 3px 1px rgba(60, 64, 67, 0.15);\n",
              "      fill: #174EA6;\n",
              "    }\n",
              "\n",
              "    [theme=dark] .colab-df-convert {\n",
              "      background-color: #3B4455;\n",
              "      fill: #D2E3FC;\n",
              "    }\n",
              "\n",
              "    [theme=dark] .colab-df-convert:hover {\n",
              "      background-color: #434B5C;\n",
              "      box-shadow: 0px 1px 3px 1px rgba(0, 0, 0, 0.15);\n",
              "      filter: drop-shadow(0px 1px 2px rgba(0, 0, 0, 0.3));\n",
              "      fill: #FFFFFF;\n",
              "    }\n",
              "  </style>\n",
              "\n",
              "      <script>\n",
              "        const buttonEl =\n",
              "          document.querySelector('#df-fe14fcd7-b69c-45ba-b925-91c2e3518d72 button.colab-df-convert');\n",
              "        buttonEl.style.display =\n",
              "          google.colab.kernel.accessAllowed ? 'block' : 'none';\n",
              "\n",
              "        async function convertToInteractive(key) {\n",
              "          const element = document.querySelector('#df-fe14fcd7-b69c-45ba-b925-91c2e3518d72');\n",
              "          const dataTable =\n",
              "            await google.colab.kernel.invokeFunction('convertToInteractive',\n",
              "                                                     [key], {});\n",
              "          if (!dataTable) return;\n",
              "\n",
              "          const docLinkHtml = 'Like what you see? Visit the ' +\n",
              "            '<a target=\"_blank\" href=https://colab.research.google.com/notebooks/data_table.ipynb>data table notebook</a>'\n",
              "            + ' to learn more about interactive tables.';\n",
              "          element.innerHTML = '';\n",
              "          dataTable['output_type'] = 'display_data';\n",
              "          await google.colab.output.renderOutput(dataTable, element);\n",
              "          const docLink = document.createElement('div');\n",
              "          docLink.innerHTML = docLinkHtml;\n",
              "          element.appendChild(docLink);\n",
              "        }\n",
              "      </script>\n",
              "    </div>\n",
              "  </div>\n",
              "  "
            ],
            "application/vnd.google.colaboratory.module+javascript": "\n      import \"https://ssl.gstatic.com/colaboratory/data_table/99dac6621f6ae8c4/data_table.js\";\n\n      window.createDataTable({\n        data: [[\"count\",\n26015,\n26015,\n26015],\n [\"unique\",\n22326,\n1,\n12],\n [\"top\",\n\"0  MCKINLEY ST\",\n\" TN\",\n\" NASHVILLE\"],\n [\"freq\",\n9,\n26015,\n20701]],\n        columns: [[\"string\", \"index\"], [\"string\", \"OwnerSplitAddress\"], [\"string\", \"OwnerSplitState\"], [\"string\", \"OwnerSplitCity\"]],\n        columnOptions: [{\"width\": \"1px\", \"className\": \"index_column\"}],\n        rowsPerPage: 25,\n        helpUrl: \"https://colab.research.google.com/notebooks/data_table.ipynb\",\n        suppressOutputScrolling: true,\n        minimumWidth: undefined,\n      });\n    "
          },
          "metadata": {},
          "execution_count": 5
        }
      ],
      "source": [
        "results.describe()"
      ]
    },
    {
      "cell_type": "code",
      "source": [
        "!pip install --upgrade gspread"
      ],
      "metadata": {
        "id": "z4xuOMpY-EM1"
      },
      "execution_count": null,
      "outputs": []
    },
    {
      "cell_type": "code",
      "source": [
        "import pandas as pd"
      ],
      "metadata": {
        "id": "nLhbfKo7-Pm3"
      },
      "execution_count": 4,
      "outputs": []
    },
    {
      "cell_type": "code",
      "source": [
        "from google.colab import drive\n",
        "drive.mount('/content/gcpdrive')"
      ],
      "metadata": {
        "colab": {
          "base_uri": "https://localhost:8080/"
        },
        "id": "cpvvcCEh-YFA",
        "outputId": "7eb20dea-d32e-41b8-a072-baf29a419367"
      },
      "execution_count": 5,
      "outputs": [
        {
          "output_type": "stream",
          "name": "stdout",
          "text": [
            "Mounted at /content/gcpdrive\n"
          ]
        }
      ]
    },
    {
      "cell_type": "code",
      "source": [
        "from google.colab import auth\n",
        "auth.authenticate_user()\n"
      ],
      "metadata": {
        "id": "hWYW8Xr5_9LG"
      },
      "execution_count": 6,
      "outputs": []
    },
    {
      "cell_type": "code",
      "source": [
        "import gspread"
      ],
      "metadata": {
        "id": "tMCtpCq-AJvf"
      },
      "execution_count": 7,
      "outputs": []
    },
    {
      "cell_type": "code",
      "source": [
        "from google.auth import default\n",
        "creds, _ = default()\n",
        "gc = gspread.authorize(creds)\n",
        "sh = gc.open_by_key(sheet_id)\n",
        "sh.worksheets()\n",
        "worksheet = sh.worksheet(worksheet_name)\n",
        "worksheet.get_all_records()\n"
      ],
      "metadata": {
        "id": "iA10C_hNAM3V"
      },
      "execution_count": null,
      "outputs": []
    },
    {
      "cell_type": "code",
      "source": [
        "df = pd.DataFrame(worksheet.get_all_records())"
      ],
      "metadata": {
        "id": "qDkfy3cEBSot"
      },
      "execution_count": 9,
      "outputs": []
    },
    {
      "cell_type": "code",
      "source": [
        "df.columns"
      ],
      "metadata": {
        "colab": {
          "base_uri": "https://localhost:8080/"
        },
        "id": "lTLfoi-xBlR_",
        "outputId": "80f19e4c-7b62-4495-d189-96953bdc8682"
      },
      "execution_count": 10,
      "outputs": [
        {
          "output_type": "execute_result",
          "data": {
            "text/plain": [
              "Index(['UniqueID', 'ParcelID', 'LandUse', 'PropertyAddress', 'SaleDate',\n",
              "       'SalePrice', 'LegalReference', 'SoldAsVacant', 'OwnerName',\n",
              "       'OwnerAddress', 'Acreage', 'TaxDistrict', 'LandValue', 'BuildingValue',\n",
              "       'TotalValue', 'YearBuilt', 'Bedrooms', 'FullBath', 'HalfBath',\n",
              "       'PropertySplitAddress', 'PropertySplitCity', 'OwnerSplitAddress',\n",
              "       'OwnerSplitCity', 'OwnerSplitState'],\n",
              "      dtype='object')"
            ]
          },
          "metadata": {},
          "execution_count": 10
        }
      ]
    },
    {
      "cell_type": "code",
      "source": [
        "df['Year'] = df['SaleDate'].str[:4]\n",
        "df['Month'] = df['SaleDate'].str[5:7]\n",
        "df['Date']= df['SaleDate'].str[8:10]\n",
        "df['PropertySplitCity'].value_counts().plot(kind='barh')"
      ],
      "metadata": {
        "colab": {
          "base_uri": "https://localhost:8080/",
          "height": 283
        },
        "id": "zdUSSF1xBxgi",
        "outputId": "59187a3c-2ad2-4436-b14a-accd5993ea70"
      },
      "execution_count": 11,
      "outputs": [
        {
          "output_type": "execute_result",
          "data": {
            "text/plain": [
              "<AxesSubplot:>"
            ]
          },
          "metadata": {},
          "execution_count": 11
        },
        {
          "output_type": "display_data",
          "data": {
            "text/plain": [
              "<Figure size 432x288 with 1 Axes>"
            ],
            "image/png": "[encoded data removed]"
          },
          "metadata": {
            "needs_background": "light"
          }
        }
      ]
    },
    {
      "cell_type": "code",
      "source": [],
      "metadata": {
        "id": "QoqK6AjmkJ2q"
      },
      "execution_count": null,
      "outputs": []
    }
  ],
  "metadata": {
    "colab": {
      "cell_execution_strategy": "setup",
      "name": "BigQuery bquxjob_2171e422_186c3c8c514",
      "provenance": [],
      "include_colab_link": true
    },
    "kernelspec": {
      "display_name": "Python 3",
      "name": "python3"
    },
    "language_info": {
      "name": "python"
    }
  },
  "nbformat": 4,
  "nbformat_minor": 0
}